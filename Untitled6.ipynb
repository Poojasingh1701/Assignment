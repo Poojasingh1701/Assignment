{
 "cells": [
  {
   "cell_type": "code",
   "execution_count": 1,
   "id": "fcaebec5-9140-47c0-9969-adfc865ecd67",
   "metadata": {},
   "outputs": [],
   "source": [
    "#loop"
   ]
  },
  {
   "cell_type": "code",
   "execution_count": null,
   "id": "6fa961e1-682f-4fd4-848b-a90544a8bfb8",
   "metadata": {},
   "outputs": [],
   "source": [
    "A for loop is used for iterating over a sequence \n",
    "(that is either a list , a tuples , a dictionary , a set , or a string)"
   ]
  },
  {
   "cell_type": "code",
   "execution_count": 3,
   "id": "3f5e3526-2f27-4c5b-8106-0e9689d766a9",
   "metadata": {},
   "outputs": [],
   "source": [
    "l = [12,3,56,41,2]"
   ]
  },
  {
   "cell_type": "code",
   "execution_count": 5,
   "id": "4b10bac3-fb16-4ba9-bb23-a60bbcb51f49",
   "metadata": {},
   "outputs": [
    {
     "name": "stdout",
     "output_type": "stream",
     "text": [
      "12 <class 'int'>\n",
      "3 <class 'int'>\n",
      "56 <class 'int'>\n",
      "41 <class 'int'>\n",
      "2 <class 'int'>\n"
     ]
    }
   ],
   "source": [
    "for i in l:\n",
    "    print(i, type(i))\n",
    "    "
   ]
  },
  {
   "cell_type": "code",
   "execution_count": 6,
   "id": "fce39992-c8e2-4100-95ae-93fdc5aeed26",
   "metadata": {},
   "outputs": [],
   "source": [
    "l = [12,3,56,41,2]"
   ]
  },
  {
   "cell_type": "code",
   "execution_count": 7,
   "id": "3ffe684f-7e4e-4505-aa91-663fa81d0879",
   "metadata": {},
   "outputs": [
    {
     "data": {
      "text/plain": [
       "114"
      ]
     },
     "execution_count": 7,
     "metadata": {},
     "output_type": "execute_result"
    }
   ],
   "source": [
    "sum(l)"
   ]
  },
  {
   "cell_type": "code",
   "execution_count": 8,
   "id": "f938d10c-e181-4407-8ad5-f618bf98eb03",
   "metadata": {},
   "outputs": [
    {
     "data": {
      "text/plain": [
       "114"
      ]
     },
     "execution_count": 8,
     "metadata": {},
     "output_type": "execute_result"
    }
   ],
   "source": [
    "result = 0\n",
    "for i in l:\n",
    "    result = result+i\n",
    "result\n",
    "    "
   ]
  },
  {
   "cell_type": "code",
   "execution_count": 9,
   "id": "88131e2b-7213-46bc-915f-1c5c62f30b6f",
   "metadata": {},
   "outputs": [],
   "source": [
    "# while loop"
   ]
  },
  {
   "cell_type": "code",
   "execution_count": null,
   "id": "49c7f060-729b-46cf-9d5e-63cb58ee59b9",
   "metadata": {},
   "outputs": [],
   "source": [
    "A \"while\" loop is used to repeat a specific block of code an unknown number of times, until a condition is met."
   ]
  },
  {
   "cell_type": "code",
   "execution_count": 11,
   "id": "3470d7d2-3c19-4ea4-bc3d-ca9420a80cf3",
   "metadata": {},
   "outputs": [
    {
     "name": "stdout",
     "output_type": "stream",
     "text": [
      "1\n",
      "2\n",
      "3\n",
      "4\n",
      "5\n",
      "6\n",
      "7\n",
      "8\n",
      "9\n",
      "10\n"
     ]
    }
   ],
   "source": [
    "a = 1\n",
    "while a <= 10:\n",
    "    print(a)\n",
    "    a = a+1\n",
    "    "
   ]
  },
  {
   "cell_type": "code",
   "execution_count": null,
   "id": "f4d7d6f0-f4b9-458f-9a57-07ef48382f0c",
   "metadata": {},
   "outputs": [],
   "source": [
    "#sum up the number till some points"
   ]
  },
  {
   "cell_type": "code",
   "execution_count": 12,
   "id": "710c206b-d349-4f59-8a59-68c9ac174de3",
   "metadata": {},
   "outputs": [
    {
     "name": "stdin",
     "output_type": "stream",
     "text": [
      "enter your limit 15\n"
     ]
    },
    {
     "data": {
      "text/plain": [
       "120"
      ]
     },
     "execution_count": 12,
     "metadata": {},
     "output_type": "execute_result"
    }
   ],
   "source": [
    "n = int(input(\"enter your limit\"))\n",
    "starting_point = 0\n",
    "counter = 1\n",
    "\n",
    "while counter <= n:\n",
    "    starting_point = starting_point + counter\n",
    "    counter =  counter + 1\n",
    "starting_point"
   ]
  },
  {
   "cell_type": "code",
   "execution_count": null,
   "id": "3db07648-84d4-4558-ae3c-86602ae86c4c",
   "metadata": {},
   "outputs": [],
   "source": [
    "#print sum of the first natural number for loop"
   ]
  },
  {
   "cell_type": "code",
   "execution_count": 1,
   "id": "d1aee8d4-79b9-4afe-93dc-8177a6f267e8",
   "metadata": {},
   "outputs": [],
   "source": [
    "n = [1,2,3,4,5,6,7,8,9,10]"
   ]
  },
  {
   "cell_type": "code",
   "execution_count": 6,
   "id": "e1a9ebe3-4440-4fca-9275-15e24cd8b3d7",
   "metadata": {},
   "outputs": [
    {
     "data": {
      "text/plain": [
       "55"
      ]
     },
     "execution_count": 6,
     "metadata": {},
     "output_type": "execute_result"
    }
   ],
   "source": [
    "sum = 0\n",
    "for i in n:\n",
    "    sum = sum +i\n",
    "sum"
   ]
  },
  {
   "cell_type": "code",
   "execution_count": null,
   "id": "0fd4a27d-72d3-4f5b-895b-59df42b5eb8a",
   "metadata": {},
   "outputs": [],
   "source": [
    "#print product of the first natural number for loop"
   ]
  },
  {
   "cell_type": "code",
   "execution_count": 7,
   "id": "df6ca219-d9aa-4595-b1d0-c2535ccbafd9",
   "metadata": {},
   "outputs": [
    {
     "data": {
      "text/plain": [
       "[1, 2, 3, 4, 5, 6, 7, 8, 9, 10]"
      ]
     },
     "execution_count": 7,
     "metadata": {},
     "output_type": "execute_result"
    }
   ],
   "source": [
    "n"
   ]
  },
  {
   "cell_type": "code",
   "execution_count": 8,
   "id": "4bb303ae-e458-4fb5-b4bc-05c00086485d",
   "metadata": {},
   "outputs": [
    {
     "data": {
      "text/plain": [
       "3628800"
      ]
     },
     "execution_count": 8,
     "metadata": {},
     "output_type": "execute_result"
    }
   ],
   "source": [
    "product = 1\n",
    "for i in n:\n",
    "    product = product*i\n",
    "product"
   ]
  },
  {
   "cell_type": "code",
   "execution_count": 9,
   "id": "53bc5487-d101-4662-a25d-fcb70e3051a8",
   "metadata": {},
   "outputs": [],
   "source": [
    "#print sum of the first natural number while loop"
   ]
  },
  {
   "cell_type": "code",
   "execution_count": 13,
   "id": "86d97841-56cd-4684-8270-ba7f07e632ec",
   "metadata": {},
   "outputs": [
    {
     "name": "stdin",
     "output_type": "stream",
     "text": [
      "enter your limit 10\n"
     ]
    },
    {
     "data": {
      "text/plain": [
       "55"
      ]
     },
     "execution_count": 13,
     "metadata": {},
     "output_type": "execute_result"
    }
   ],
   "source": [
    "n = int(input(\"enter your limit\"))\n",
    "starting_point = 0\n",
    "counter = 1\n",
    "while counter <= n:\n",
    "    starting_point = starting_point + counter\n",
    "    counter = counter + 1\n",
    "starting_point\n"
   ]
  },
  {
   "cell_type": "code",
   "execution_count": 14,
   "id": "c21d2e0a-7de3-4746-bf43-c144dfa45676",
   "metadata": {},
   "outputs": [],
   "source": [
    "#calculate the product of the first 10 natural number using while loop"
   ]
  },
  {
   "cell_type": "code",
   "execution_count": 3,
   "id": "7bcbe1b7-02df-460e-910b-f184a5c27909",
   "metadata": {},
   "outputs": [
    {
     "name": "stdout",
     "output_type": "stream",
     "text": [
      "product using while loop: 3628800\n"
     ]
    }
   ],
   "source": [
    "product_while = 1\n",
    "i = 1\n",
    "while i <= 10:\n",
    "    product_while *= i\n",
    "    i += 1\n",
    "print(\"product using while loop:\" , product_while)"
   ]
  },
  {
   "cell_type": "code",
   "execution_count": null,
   "id": "130093a0-1c0f-44cf-97f7-9b4d022aa3da",
   "metadata": {},
   "outputs": [],
   "source": [
    "# Q3. Create a python program to compute the electricity bill for a household."
   ]
  },
  {
   "cell_type": "code",
   "execution_count": 6,
   "id": "c4b4042d-9944-4d58-8372-8bc29ca53824",
   "metadata": {},
   "outputs": [
    {
     "name": "stdin",
     "output_type": "stream",
     "text": [
      "Enter the units of electricity consumed:  310\n"
     ]
    },
    {
     "name": "stdout",
     "output_type": "stream",
     "text": [
      "Total electricity bill: Rs. 2250.0\n"
     ]
    }
   ],
   "source": [
    "def calculate_electricity_bill(units):\n",
    "    if units <= 100:       \n",
    "        bill = units * 4.5    \n",
    "    elif units <= 200:       \n",
    "        bill = 100 * 4.5 + (units - 100) * 6    \n",
    "    elif units <= 300:       \n",
    "        bill = 100 * 4.5 + 100 * 6 + (units - 200) * 10\n",
    "    else:       \n",
    "        bill = 100 * 4.5 + 100 * 6 + 100 * 10 + (units - 300) * 20 \n",
    "    return bill\n",
    "# Test the program\n",
    "units_consumed = int(input(\"Enter the units of electricity consumed: \"))\n",
    "total_bill = calculate_electricity_bill(units_consumed)\n",
    "print(\"Total electricity bill: Rs.\", total_bill)\n",
    "\n",
    "\n",
    "\n",
    "\n",
    "\n",
    "\n"
   ]
  },
  {
   "cell_type": "code",
   "execution_count": 8,
   "id": "d7c4b22e-877b-42f8-b70d-a7bf9846b2a5",
   "metadata": {},
   "outputs": [],
   "source": [
    "#Create a list of numbers from 1 to 100. Use for loop to calculate the cube of each num and if the cube of that number is divisible by 4 or 5 then append that number in a list and print"
   ]
  },
  {
   "cell_type": "code",
   "execution_count": 1,
   "id": "5ce59e76-ff0e-4065-b144-14e847fc9440",
   "metadata": {},
   "outputs": [
    {
     "name": "stdout",
     "output_type": "stream",
     "text": [
      "[0, 2, 4, 5, 6, 8, 10, 12, 14, 15, 16, 18, 20, 22, 24, 25, 26, 28, 30, 32, 34, 35, 36, 38, 40, 42, 44, 45, 46, 48, 50, 52, 54, 55, 56, 58, 60, 62, 64, 65, 66, 68, 70, 72, 74, 75, 76, 78, 80, 82, 84, 85, 86, 88, 90, 92, 94, 95, 96, 98, 100]\n"
     ]
    }
   ],
   "source": [
    "list_divisible_by_4_or_5 = []\n",
    "for i in range(0,101):\n",
    "    x = i**3\n",
    "    if x%4 ==0 or x%5 ==0:\n",
    "        list_divisible_by_4_or_5.append(i)\n",
    "print(list_divisible_by_4_or_5 )\n",
    "        \n",
    "        "
   ]
  },
  {
   "cell_type": "code",
   "execution_count": null,
   "id": "62ccddf5-903c-4ffe-8767-37380bd154fa",
   "metadata": {},
   "outputs": [],
   "source": [
    "# Using a while loop to calculate the cube of each number and filter by divisibility 4 or 5"
   ]
  },
  {
   "cell_type": "code",
   "execution_count": 1,
   "id": "b3bb4d6a-7875-44ef-84ea-69b2d6d3a5a4",
   "metadata": {},
   "outputs": [
    {
     "name": "stdout",
     "output_type": "stream",
     "text": [
      "[2, 4, 5, 6, 8, 10, 12, 14, 15, 16, 18, 20, 22, 24, 25, 26, 28, 30, 32, 34, 35, 36, 38, 40, 42, 44, 45, 46, 48, 50, 52, 54, 55, 56, 58, 60, 62, 64, 65, 66, 68, 70, 72, 74, 75, 76, 78, 80, 82, 84, 85, 86, 88, 90, 92, 94, 95, 96, 98, 100]\n"
     ]
    }
   ],
   "source": [
    "num = 1\n",
    "cubes_divisible_by_4_or_5 = []\n",
    "\n",
    "while num <= 100:\n",
    "    cube = num ** 3\n",
    "    if cube % 4 == 0 or cube % 5 == 0:\n",
    "        cubes_divisible_by_4_or_5.append(num)\n",
    "    num += 1\n",
    "\n",
    "print(cubes_divisible_by_4_or_5)"
   ]
  },
  {
   "cell_type": "code",
   "execution_count": 1,
   "id": "57c390c3-7feb-430d-97d2-825f9ff63af2",
   "metadata": {},
   "outputs": [],
   "source": [
    "# Write a program to filter count vowels "
   ]
  },
  {
   "cell_type": "code",
   "execution_count": 2,
   "id": "83536717-16e1-4574-bcbd-51beee42ee43",
   "metadata": {},
   "outputs": [
    {
     "name": "stdin",
     "output_type": "stream",
     "text": [
      "enter your string \"I want to become a data scientist\"\n"
     ]
    },
    {
     "name": "stdout",
     "output_type": "stream",
     "text": [
      "No of vowels are: 11\n"
     ]
    }
   ],
   "source": [
    "string = str(input(\"enter your string\"))\n",
    "vowels = 0\n",
    "for i in string:\n",
    "    if(i == 'a' or i == 'e' or i == 'i' or i == 'o' or i == 'u'):\n",
    "         vowels=vowels+1\n",
    "print(\"No of vowels are:\",vowels)"
   ]
  },
  {
   "cell_type": "code",
   "execution_count": null,
   "id": "98c410db-c8d9-4789-bf67-51e2623df0ea",
   "metadata": {},
   "outputs": [],
   "source": []
  }
 ],
 "metadata": {
  "kernelspec": {
   "display_name": "Python 3 (ipykernel)",
   "language": "python",
   "name": "python3"
  },
  "language_info": {
   "codemirror_mode": {
    "name": "ipython",
    "version": 3
   },
   "file_extension": ".py",
   "mimetype": "text/x-python",
   "name": "python",
   "nbconvert_exporter": "python",
   "pygments_lexer": "ipython3",
   "version": "3.10.8"
  }
 },
 "nbformat": 4,
 "nbformat_minor": 5
}
